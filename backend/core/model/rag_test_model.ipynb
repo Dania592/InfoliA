{
 "cells": [
  {
   "cell_type": "code",
   "id": "initial_id",
   "metadata": {
    "collapsed": true,
    "ExecuteTime": {
     "end_time": "2025-03-01T23:01:16.645801Z",
     "start_time": "2025-03-01T23:00:04.780650Z"
    }
   },
   "source": [
    "from rag_module import RagModule\n",
    "\n",
    "rag = RagModule()\n",
    "rag.create_faiss_db([\"docs/document.pdf\"], vectorstor_path=\"faiss_test\")"
   ],
   "outputs": [
    {
     "name": "stdout",
     "output_type": "stream",
     "text": [
      "Nouvelle base FAISS créée:  faiss_test , contenu :  12  documents. \n"
     ]
    }
   ],
   "execution_count": 1
  },
  {
   "metadata": {
    "ExecuteTime": {
     "end_time": "2025-03-01T23:04:31.336616Z",
     "start_time": "2025-03-01T23:04:26.200507Z"
    }
   },
   "cell_type": "code",
   "source": "rag.add_pdf('docs/GPEC.pdf', 'faiss_test')",
   "id": "ba27463d3728039a",
   "outputs": [
    {
     "name": "stdout",
     "output_type": "stream",
     "text": [
      "Mise à jour de la base  faiss_test  avec :  docs/GPEC.pdf\n"
     ]
    }
   ],
   "execution_count": 2
  },
  {
   "metadata": {
    "ExecuteTime": {
     "end_time": "2025-03-01T23:04:55.344788Z",
     "start_time": "2025-03-01T23:04:55.339826Z"
    }
   },
   "cell_type": "code",
   "source": "question = \"c'est quoi un plan d'ajustement dans le GPEC ?\"",
   "id": "57bddd1b5bcdcdbe",
   "outputs": [],
   "execution_count": 3
  },
  {
   "metadata": {
    "ExecuteTime": {
     "end_time": "2025-03-01T23:06:21.432583Z",
     "start_time": "2025-03-01T23:06:21.163924Z"
    }
   },
   "cell_type": "code",
   "source": [
    "results = rag.search_faiss(question, \"faiss_test\")\n",
    "for result in results:\n",
    "    print(result)"
   ],
   "id": "5fa8cdb54dfebb62",
   "outputs": [
    {
     "name": "stdout",
     "output_type": "stream",
     "text": [
      "page_content='GPEC\n",
      "Démarche de GPEC\n",
      "pour Gestion Prévisionnelle des emplois et des compétences.\n",
      "est un ensemble de méthodes et de pratiques qui permettent de faire une\n",
      "projection de l'évolution économique de l'entreprise pour identiﬁer ses besoins en\n",
      "ressources humaines dans le futur et les comparer avec l'état actuel de ses\n",
      "ressources et cela dans le but d'adapter et d'anticiper les stratégies' metadata={'producer': 'Skia/PDF m114', 'creator': 'Mozilla/5.0 (Windows NT 10.0; Win64; x64) AppleWebKit/537.36 (KHTML, like Gecko) obsidian/1.5.3 Chrome/114.0.5735.289 Electron/25.8.1 Safari/537.36', 'creationdate': '2025-02-27T22:49:26+00:00', 'moddate': '2025-02-27T22:49:26+00:00', 'source': 'docs/GPEC.pdf', 'total_pages': 3, 'page': 0, 'page_label': '1'}\n",
      "page_content='.) pour identiﬁer les écarts et cela nous\n",
      "amène à l'étape d'ajustement ou de plan d'action\n",
      "Plan d'ajustement\n",
      "les actions pouvant etre réaliser sont nombreuse et doivent etre adapter à\n",
      "l'organisation de l'entreprise, ses actions sont des ajustements quantitatifs et\n",
      "qualitatifs qu'on peut diviser en 3 categories principles:\n",
      "l'évolution du système productif et des activités de l'entreprise\n",
      "les ajustements internes\n",
      "les ajustements externes\n",
      "les enjeux\n",
      "augmenter la productivité\n",
      "établir des plans de développement de l'entreprise ou modiﬁer sa stratégie\n",
      "adaptation et l'aménagement des horaires et du temps de travail\n",
      "(augmentation/reduction/chômage)\n",
      "recrutement interne ou réaffectation des ressourecs en fonction des besoins\n",
      "(mobilité horizotale/ géographique)\n",
      "formation pour obtenir du personnel polyvalent\n",
      "anticiper les besoins par des embauches\n",
      "rendre les effectifs plus ﬂexibles (CDD ou travail temporaire)\n",
      "recourir à la sous-traitance ou l'externalisation en délégant des taches à des\n",
      "intervenants externes\n",
      "renouveler les pratiques managériales: encourager et facilité la collaboration,\n",
      "améliorer la qualité de vie au travail ' metadata={'producer': 'Skia/PDF m114', 'creator': 'Mozilla/5.0 (Windows NT 10.0; Win64; x64) AppleWebKit/537.36 (KHTML, like Gecko) obsidian/1.5.3 Chrome/114.0.5735.289 Electron/25.8.1 Safari/537.36', 'creationdate': '2025-02-27T22:49:26+00:00', 'moddate': '2025-02-27T22:49:26+00:00', 'source': 'docs/GPEC.pdf', 'total_pages': 3, 'page': 1, 'page_label': '2'}\n"
     ]
    }
   ],
   "execution_count": 7
  },
  {
   "metadata": {
    "ExecuteTime": {
     "end_time": "2025-03-01T23:06:26.666165Z",
     "start_time": "2025-03-01T23:06:26.542177Z"
    }
   },
   "cell_type": "code",
   "source": [
    "from llm_module import LlmModule\n",
    "\n",
    "chat = LlmModule()\n"
   ],
   "id": "e443219d086932de",
   "outputs": [
    {
     "ename": "ModuleNotFoundError",
     "evalue": "No module named 'core'",
     "output_type": "error",
     "traceback": [
      "\u001B[1;31m---------------------------------------------------------------------------\u001B[0m",
      "\u001B[1;31mModuleNotFoundError\u001B[0m                       Traceback (most recent call last)",
      "Cell \u001B[1;32mIn[8], line 1\u001B[0m\n\u001B[1;32m----> 1\u001B[0m \u001B[38;5;28;01mfrom\u001B[39;00m\u001B[38;5;250m \u001B[39m\u001B[38;5;21;01mllm_module\u001B[39;00m\u001B[38;5;250m \u001B[39m\u001B[38;5;28;01mimport\u001B[39;00m LlmModule\n\u001B[0;32m      3\u001B[0m chat \u001B[38;5;241m=\u001B[39m LlmModule()\n",
      "File \u001B[1;32m~\\PycharmProjects\\InfoliA\\backend\\core\\model\\llm_module.py:3\u001B[0m\n\u001B[0;32m      1\u001B[0m \u001B[38;5;28;01mfrom\u001B[39;00m\u001B[38;5;250m \u001B[39m\u001B[38;5;21;01mtransformers\u001B[39;00m\u001B[38;5;250m \u001B[39m\u001B[38;5;28;01mimport\u001B[39;00m pipeline\n\u001B[1;32m----> 3\u001B[0m \u001B[38;5;28;01mfrom\u001B[39;00m\u001B[38;5;250m \u001B[39m\u001B[38;5;21;01mcore\u001B[39;00m\u001B[38;5;21;01m.\u001B[39;00m\u001B[38;5;21;01mmodel\u001B[39;00m\u001B[38;5;21;01m.\u001B[39;00m\u001B[38;5;21;01mrag_module\u001B[39;00m\u001B[38;5;250m \u001B[39m\u001B[38;5;28;01mimport\u001B[39;00m RagModule\n\u001B[0;32m      6\u001B[0m \u001B[38;5;28;01mclass\u001B[39;00m\u001B[38;5;250m \u001B[39m\u001B[38;5;21;01mLlmModule\u001B[39;00m:\n\u001B[0;32m      7\u001B[0m     \u001B[38;5;28;01mdef\u001B[39;00m\u001B[38;5;250m \u001B[39m\u001B[38;5;21m__init__\u001B[39m(\u001B[38;5;28mself\u001B[39m):\n",
      "\u001B[1;31mModuleNotFoundError\u001B[0m: No module named 'core'"
     ]
    }
   ],
   "execution_count": 8
  },
  {
   "metadata": {
    "ExecuteTime": {
     "end_time": "2025-02-28T20:03:33.268189Z",
     "start_time": "2025-02-28T20:03:33.262572Z"
    }
   },
   "cell_type": "code",
   "source": "question = \"c'est quoi la définition d'une entreprise\"",
   "id": "4e86925b6273a80d",
   "outputs": [],
   "execution_count": 8
  },
  {
   "metadata": {
    "ExecuteTime": {
     "end_time": "2025-02-28T20:04:10.812521Z",
     "start_time": "2025-02-28T20:03:35.014473Z"
    }
   },
   "cell_type": "code",
   "source": [
    "result = chat.generate_response(question, faiss_path=\"faiss_test\")\n",
    "for r in result:\n",
    "    print(r['generated_text'])"
   ],
   "id": "c9f5aa3e75576773",
   "outputs": [
    {
     "name": "stdout",
     "output_type": "stream",
     "text": [
      "Une organisation à vocation lucratif et sociale vise la pérennité dans le temps en générant des profits pouvant être un personne physique ou morale. Elle propose un bien ou un service isu de l'achat ou de la production, en mobilisant des ressources matérielles, immatérielles et humaines, et s'appuie sur une structure organisationnelle définie. Elle se distingue par son secteur d'activité et est guidée par une mission sociétale et des principes éthiques\n"
     ]
    }
   ],
   "execution_count": 9
  }
 ],
 "metadata": {
  "kernelspec": {
   "display_name": "Python 3",
   "language": "python",
   "name": "python3"
  },
  "language_info": {
   "codemirror_mode": {
    "name": "ipython",
    "version": 2
   },
   "file_extension": ".py",
   "mimetype": "text/x-python",
   "name": "python",
   "nbconvert_exporter": "python",
   "pygments_lexer": "ipython2",
   "version": "2.7.6"
  }
 },
 "nbformat": 4,
 "nbformat_minor": 5
}
