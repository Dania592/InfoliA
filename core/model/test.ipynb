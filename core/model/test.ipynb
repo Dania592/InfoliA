{
 "cells": [
  {
   "cell_type": "code",
   "metadata": {
    "ExecuteTime": {
     "end_time": "2025-02-21T17:41:26.700837Z",
     "start_time": "2025-02-21T17:41:14.130988Z"
    }
   },
   "source": [
    "import transformers\n",
    "from langchain.embeddings import HuggingFaceEmbeddings\n",
    "model_kwargs = {\"device\": \"cpu\"}\n",
    "encode_kwargs = {\"normalize_embeddings\": True}\n",
    "\n",
    "model_path = \"BAAI/bge-m3\"\n",
    "\n",
    "model = HuggingFaceEmbeddings(\n",
    "    model_name=model_path, \n",
    "    model_kwargs=model_kwargs, \n",
    "    encode_kwargs=encode_kwargs\n",
    ")"
   ],
   "outputs": [
    {
     "name": "stderr",
     "output_type": "stream",
     "text": [
      "C:\\Users\\dania\\OneDrive\\Documents\\cours\\WEB\\InfoliA\\.venv\\Lib\\site-packages\\tqdm\\auto.py:21: TqdmWarning: IProgress not found. Please update jupyter and ipywidgets. See https://ipywidgets.readthedocs.io/en/stable/user_install.html\n",
      "  from .autonotebook import tqdm as notebook_tqdm\n",
      "C:\\Users\\dania\\AppData\\Local\\Temp\\ipykernel_15320\\443789182.py:8: LangChainDeprecationWarning: The class `HuggingFaceEmbeddings` was deprecated in LangChain 0.2.2 and will be removed in 1.0. An updated version of the class exists in the :class:`~langchain-huggingface package and should be used instead. To use it run `pip install -U :class:`~langchain-huggingface` and import as `from :class:`~langchain_huggingface import HuggingFaceEmbeddings``.\n",
      "  model = HuggingFaceEmbeddings(\n"
     ]
    }
   ],
   "execution_count": 1
  },
  {
   "cell_type": "code",
   "metadata": {
    "ExecuteTime": {
     "end_time": "2025-02-21T17:41:55.764922Z",
     "start_time": "2025-02-21T17:41:55.590630Z"
    }
   },
   "source": [
    "from langchain.text_splitter import RecursiveCharacterTextSplitter\n",
    "from langchain.vectorstores import FAISS\n",
    "from langchain_community.document_loaders import PyPDFLoader\n",
    "\n",
    "text_splitter = RecursiveCharacterTextSplitter(\n",
    "    chunk_size=500, \n",
    "    chunk_overlap=150,\n",
    "    separators= ['.']\n",
    "    )"
   ],
   "outputs": [],
   "execution_count": 2
  },
  {
   "cell_type": "code",
   "metadata": {
    "ExecuteTime": {
     "end_time": "2025-02-21T17:44:46.964364Z",
     "start_time": "2025-02-21T17:44:44.427848Z"
    }
   },
   "source": [
    "loader = PyPDFLoader(\"document.pdf\")\n",
    "documents = loader.load()"
   ],
   "outputs": [],
   "execution_count": 4
  },
  {
   "cell_type": "code",
   "metadata": {
    "ExecuteTime": {
     "end_time": "2025-02-21T17:44:51.140084Z",
     "start_time": "2025-02-21T17:44:51.131805Z"
    }
   },
   "source": [
    "chunks = text_splitter.split_documents(documents)\n",
    "print(chunks)"
   ],
   "outputs": [
    {
     "name": "stdout",
     "output_type": "stream",
     "text": [
      "[Document(metadata={'producer': 'Skia/PDF m114', 'creator': 'Mozilla/5.0 (Windows NT 10.0; Win64; x64) AppleWebKit/537.36 (KHTML, like Gecko) obsidian/1.5.3 Chrome/114.0.5735.289 Electron/25.8.1 Safari/537.36', 'creationdate': '2024-11-13T07:32:51+00:00', 'moddate': '2024-11-13T07:32:51+00:00', 'source': 'document.pdf', 'total_pages': 12, 'page': 0, 'page_label': '1'}, page_content=\"CM1 - Economie d'entreprise\\nEntreprise\\nUne organisation à vocation lucrative et sociétale vise la pérennité dans le temps\\nen générant des proﬁts pouvant être une personne physique ou morale. Elle\\npropose un bien ou un service issu de l'achat ou de la production, en mobilisant\\ndes ressources matérielles, immatérielles et humaines, et s'appuie sur une structure\\norganisationnelle déﬁnie. Elle se distingue par son secteur d'activité et est guidée\\npar une mission sociétale et des principes éthiques\"), Document(metadata={'producer': 'Skia/PDF m114', 'creator': 'Mozilla/5.0 (Windows NT 10.0; Win64; x64) AppleWebKit/537.36 (KHTML, like Gecko) obsidian/1.5.3 Chrome/114.0.5735.289 Electron/25.8.1 Safari/537.36', 'creationdate': '2024-11-13T07:32:51+00:00', 'moddate': '2024-11-13T07:32:51+00:00', 'source': 'document.pdf', 'total_pages': 12, 'page': 0, 'page_label': '1'}, page_content=\".\\n==Types d'entreprises\\nActeurs de l'entreprise\\nLa stratégie\\npermet d'analyser la situation présente et de développer une vision de ce que\\nserait le futur souhaitable de l'entreprise\\nValeur économique\\nla différence entre la valeur perçue et payée par le client et les coûts supportés\\npour l'obtenir\\nEntreprise de négoce : approvisionnement, stockage et vente (sans\\ntransformation)\\nEntreprise industrielle : approvisionnement, stockage, transformation\\n(production) et vente\\nEntreprise prestataire de service : utilisation des compétences salariales pour\\noffrir des services immatériels (approvisionnement)\\nDirigeant : pouvoir et prise de risque\\nActionnaire : dividendes ﬁnancière, sécurité\\nSalariés : salaires, sécurité de l'emploi\"), Document(metadata={'producer': 'Skia/PDF m114', 'creator': 'Mozilla/5.0 (Windows NT 10.0; Win64; x64) AppleWebKit/537.36 (KHTML, like Gecko) obsidian/1.5.3 Chrome/114.0.5735.289 Electron/25.8.1 Safari/537.36', 'creationdate': '2024-11-13T07:32:51+00:00', 'moddate': '2024-11-13T07:32:51+00:00', 'source': 'document.pdf', 'total_pages': 12, 'page': 0, 'page_label': '1'}, page_content='...\\nClient : satisfaction des besoins\\nSyndicats : défense des salariés, pouvoir'), Document(metadata={'producer': 'Skia/PDF m114', 'creator': 'Mozilla/5.0 (Windows NT 10.0; Win64; x64) AppleWebKit/537.36 (KHTML, like Gecko) obsidian/1.5.3 Chrome/114.0.5735.289 Electron/25.8.1 Safari/537.36', 'creationdate': '2024-11-13T07:32:51+00:00', 'moddate': '2024-11-13T07:32:51+00:00', 'source': 'document.pdf', 'total_pages': 12, 'page': 1, 'page_label': '2'}, page_content=\"Diagnostiques\\nDiagnostique interne / externe\\nDiagnostique interne (capacité stratégique)\\nFonctions de l'entreprise\\nTypes d'entreprises et de structure NOPE\\nPropriété/ forme juridique\\nPersonnalité morale\\ndiagnostique interne => déterminer la capacité stratégique\\ndiagnostique externe => facteurs clés de succès\\n1. Entreprises individuelles : une seule personne fournit le capital, le travail,\\ndirection (EURL : Entreprise Unipersonnelle à Responsabilité Limitée, SASU)\\n2\"), Document(metadata={'producer': 'Skia/PDF m114', 'creator': 'Mozilla/5.0 (Windows NT 10.0; Win64; x64) AppleWebKit/537.36 (KHTML, like Gecko) obsidian/1.5.3 Chrome/114.0.5735.289 Electron/25.8.1 Safari/537.36', 'creationdate': '2024-11-13T07:32:51+00:00', 'moddate': '2024-11-13T07:32:51+00:00', 'source': 'document.pdf', 'total_pages': 12, 'page': 1, 'page_label': '2'}, page_content=\". Entreprise sociétaires privées\\n1. sociétés commerciales (séparation du travail et du capital)\\n2. sociétés civiles (sociétés civiles immobilières)\\n3. Entreprise du secteur public : ont pour but un service rendu à la collectivité\\n1. publiques\\n2. semi-publiques\\n4. Entreprise du secteur de l'économie sociale (coopratives de\\nproduction/distribution, mutuelle), s'appuient sur des principes de solidarités\"), Document(metadata={'producer': 'Skia/PDF m114', 'creator': 'Mozilla/5.0 (Windows NT 10.0; Win64; x64) AppleWebKit/537.36 (KHTML, like Gecko) obsidian/1.5.3 Chrome/114.0.5735.289 Electron/25.8.1 Safari/537.36', 'creationdate': '2024-11-13T07:32:51+00:00', 'moddate': '2024-11-13T07:32:51+00:00', 'source': 'document.pdf', 'total_pages': 12, 'page': 2, 'page_label': '3'}, page_content=\"La personnalité morale d'une société désigne la capacité juridique qu'elle acquiert\\nen tant qu’entité distincte de ses fondateurs ou dirigeants. Elle est caractérisée par\\n:\\nSociétés commerciales\\nStructure de l'entreprise\\nStructure d'une entreprise\\nLa fonction commerciale\\nLa fonction commerciale en entreprise regroupe les activités liées à la vente de\\nproduits ou services et à la satisfaction des besoins des clients\"), Document(metadata={'producer': 'Skia/PDF m114', 'creator': 'Mozilla/5.0 (Windows NT 10.0; Win64; x64) AppleWebKit/537.36 (KHTML, like Gecko) obsidian/1.5.3 Chrome/114.0.5735.289 Electron/25.8.1 Safari/537.36', 'creationdate': '2024-11-13T07:32:51+00:00', 'moddate': '2024-11-13T07:32:51+00:00', 'source': 'document.pdf', 'total_pages': 12, 'page': 2, 'page_label': '3'}, page_content=\". Elle inclut l'étude\\ndu marché, la prospection de clients, la gestion des relations client et l'élaboration\\nde stratégies de vente.\\nDémarche mercatique\\nprocessus que les entreprises suivent pour comprendre et satisfaire les besoins\\ndes clients en atteignant leurs objectifs de vente et de croissance\"), Document(metadata={'producer': 'Skia/PDF m114', 'creator': 'Mozilla/5.0 (Windows NT 10.0; Win64; x64) AppleWebKit/537.36 (KHTML, like Gecko) obsidian/1.5.3 Chrome/114.0.5735.289 Electron/25.8.1 Safari/537.36', 'creationdate': '2024-11-13T07:32:51+00:00', 'moddate': '2024-11-13T07:32:51+00:00', 'source': 'document.pdf', 'total_pages': 12, 'page': 2, 'page_label': '3'}, page_content='.\\nun nom (dénomination)\\nun domicile (siège social)\\nnationalité\\nun patrimoine distinct de celui des associé\\nFormation par contrat : La société est généralement créée par un contrat entre\\nplusieurs personnes (physiques ou morales), bien qu’il existe des cas de\\nsociété unipersonnelle, comme l’EURL ou la SASU.\\nBut lucratif ou économique : Les associés mettent en commun des biens ou\\ndes compétences (leur \"industrie\") pour obtenir des bénéﬁces ou réaliser des\\néconomies'), Document(metadata={'producer': 'Skia/PDF m114', 'creator': 'Mozilla/5.0 (Windows NT 10.0; Win64; x64) AppleWebKit/537.36 (KHTML, like Gecko) obsidian/1.5.3 Chrome/114.0.5735.289 Electron/25.8.1 Safari/537.36', 'creationdate': '2024-11-13T07:32:51+00:00', 'moddate': '2024-11-13T07:32:51+00:00', 'source': 'document.pdf', 'total_pages': 12, 'page': 2, 'page_label': '3'}, page_content='.\\nPartage des résultats : Les bénéﬁces sont partagés entre les associés, et ceux-\\nci acceptent de contribuer aux éventuelles pertes.\\ncycle de vie et matrice BCG'), Document(metadata={'producer': 'Skia/PDF m114', 'creator': 'Mozilla/5.0 (Windows NT 10.0; Win64; x64) AppleWebKit/537.36 (KHTML, like Gecko) obsidian/1.5.3 Chrome/114.0.5735.289 Electron/25.8.1 Safari/537.36', 'creationdate': '2024-11-13T07:32:51+00:00', 'moddate': '2024-11-13T07:32:51+00:00', 'source': 'document.pdf', 'total_pages': 12, 'page': 3, 'page_label': '4'}, page_content='Connaissance du marché\\nMarketing opérationnel\\nIl se concentre sur la mise en œuvre pratique et concrète des stratégies de\\nmarketing élaborées au niveau du marketing stratégique'), Document(metadata={'producer': 'Skia/PDF m114', 'creator': 'Mozilla/5.0 (Windows NT 10.0; Win64; x64) AppleWebKit/537.36 (KHTML, like Gecko) obsidian/1.5.3 Chrome/114.0.5735.289 Electron/25.8.1 Safari/537.36', 'creationdate': '2024-11-13T07:32:51+00:00', 'moddate': '2024-11-13T07:32:51+00:00', 'source': 'document.pdf', 'total_pages': 12, 'page': 3, 'page_label': '4'}, page_content=\".\\nPolitique du produit / marque\\nPolitique du prix\\nstratégies de gestion des prix\\n1) stratégie pénétration : bas prix, bas coût par trop de com=> plus de part du\\nmarché\\n2) stratégie alignement : prix moyen selon le marché adapter à la concurrence\\n3) stratégie écrémage : haut prix par rapport au concurrent mais moins de part de\\nmarché\\n1. connaitre le marché (identiﬁer le marché=> marketing d'étude)\\n2. faire acheter (choisir une image, une cible, disposer d'une\\nmarque=>marketing stratégique)\\n3\"), Document(metadata={'producer': 'Skia/PDF m114', 'creator': 'Mozilla/5.0 (Windows NT 10.0; Win64; x64) AppleWebKit/537.36 (KHTML, like Gecko) obsidian/1.5.3 Chrome/114.0.5735.289 Electron/25.8.1 Safari/537.36', 'creationdate': '2024-11-13T07:32:51+00:00', 'moddate': '2024-11-13T07:32:51+00:00', 'source': 'document.pdf', 'total_pages': 12, 'page': 3, 'page_label': '4'}, page_content=\". faire acheter (choisir une image, une cible, disposer d'une\\nmarque=>marketing stratégique)\\n3. vendre (plan de marchéage, produit, prix ... => marketing opérationnel)\\nles acheteurs, consommateurs, les habitudes d'achats ...\\nl'environnement, la technologie, la culture ...\\nles autres intervenants sur le marché\\nla concurrence (rayonnement géographique, stratégies ..\"), Document(metadata={'producer': 'Skia/PDF m114', 'creator': 'Mozilla/5.0 (Windows NT 10.0; Win64; x64) AppleWebKit/537.36 (KHTML, like Gecko) obsidian/1.5.3 Chrome/114.0.5735.289 Electron/25.8.1 Safari/537.36', 'creationdate': '2024-11-13T07:32:51+00:00', 'moddate': '2024-11-13T07:32:51+00:00', 'source': 'document.pdf', 'total_pages': 12, 'page': 3, 'page_label': '4'}, page_content='...\\nles autres intervenants sur le marché\\nla concurrence (rayonnement géographique, stratégies ...)\\nlancement : acteurs peu nombreux et une condition concurrentielles faible\\ndéveloppement : acteurs peu nombreux maiss entrée pour une part de\\nmarché\\nmaturité avec une sélectivité des achats, bcp de concurrents, réduction des\\nprix\\ndéclin : saturation de la demande, difﬁcultés de croissance\\nDistribution exclusive\\ngrande marque, distribution des produits dans les points spéciﬁque souvent'), Document(metadata={'producer': 'Skia/PDF m114', 'creator': 'Mozilla/5.0 (Windows NT 10.0; Win64; x64) AppleWebKit/537.36 (KHTML, like Gecko) obsidian/1.5.3 Chrome/114.0.5735.289 Electron/25.8.1 Safari/537.36', 'creationdate': '2024-11-13T07:32:51+00:00', 'moddate': '2024-11-13T07:32:51+00:00', 'source': 'document.pdf', 'total_pages': 12, 'page': 4, 'page_label': '5'}, page_content=\"Construction des graphes\\nPolitique de distribution\\nClassiﬁcation traditionnelle des circuits de distribution\\nPolitique de communication\\nLa fonction productive\\nElle représente l'ensemble des processus et des opérations nécessaires pour\\ntransformer les ressources (matières premières, énergie, capital humain) en\\nproduits ﬁnis ou en services commercialisables.\\nLes services de la production\\nqui appartiennent à l'entreprise\\nPromotion des ventes\\ncommunication sur le produit, réduction , échantillons ..\"), Document(metadata={'producer': 'Skia/PDF m114', 'creator': 'Mozilla/5.0 (Windows NT 10.0; Win64; x64) AppleWebKit/537.36 (KHTML, like Gecko) obsidian/1.5.3 Chrome/114.0.5735.289 Electron/25.8.1 Safari/537.36', 'creationdate': '2024-11-13T07:32:51+00:00', 'moddate': '2024-11-13T07:32:51+00:00', 'source': 'document.pdf', 'total_pages': 12, 'page': 4, 'page_label': '5'}, page_content=\".\\nLes services de la production\\nqui appartiennent à l'entreprise\\nPromotion des ventes\\ncommunication sur le produit, réduction , échantillons ...\\nForce de vente\\néquipe de vente, toutes les personnes qui sont en contacte avec les clients\\n1. déﬁnir des taches élémentaires et leur donner une durée et une antériorité\\nnécessaire\\n2. déﬁnir un tableau de niveaux\\n3. construire le graphe\\n4\"), Document(metadata={'producer': 'Skia/PDF m114', 'creator': 'Mozilla/5.0 (Windows NT 10.0; Win64; x64) AppleWebKit/537.36 (KHTML, like Gecko) obsidian/1.5.3 Chrome/114.0.5735.289 Electron/25.8.1 Safari/537.36', 'creationdate': '2024-11-13T07:32:51+00:00', 'moddate': '2024-11-13T07:32:51+00:00', 'source': 'document.pdf', 'total_pages': 12, 'page': 4, 'page_label': '5'}, page_content=\". déﬁnir des taches élémentaires et leur donner une durée et une antériorité\\nnécessaire\\n2. déﬁnir un tableau de niveaux\\n3. construire le graphe\\n4. déterminer le chemin critique à l'aide de l'algorithme\\ncanal long : nombre d'intermédiaires >= 2\\ncanal court : un seul intermédiaire (le détaillant)\\ncanal utlra-court : aucun intermédiaire (producteur => consommateur)\\npublicité, médias\\npromotion des ventes\\nforce de vente et service après vente\\nsponsoring ou parrainage\"), Document(metadata={'producer': 'Skia/PDF m114', 'creator': 'Mozilla/5.0 (Windows NT 10.0; Win64; x64) AppleWebKit/537.36 (KHTML, like Gecko) obsidian/1.5.3 Chrome/114.0.5735.289 Electron/25.8.1 Safari/537.36', 'creationdate': '2024-11-13T07:32:51+00:00', 'moddate': '2024-11-13T07:32:51+00:00', 'source': 'document.pdf', 'total_pages': 12, 'page': 5, 'page_label': '6'}, page_content='Impératifs modernes de la gestion de la production\\nLa fonction logistique\\nconcerne tout ce qui touche à l’organisation et à la gestion des ﬂux de produits,\\nd’informations et de ressources.\\ngestion des achats (approvisionnement) :\\nAcheter les matières premières ou produits nécessaires auprès des fournisseurs et\\ns’assurer qu’ils sont livrés en temps voulu'), Document(metadata={'producer': 'Skia/PDF m114', 'creator': 'Mozilla/5.0 (Windows NT 10.0; Win64; x64) AppleWebKit/537.36 (KHTML, like Gecko) obsidian/1.5.3 Chrome/114.0.5735.289 Electron/25.8.1 Safari/537.36', 'creationdate': '2024-11-13T07:32:51+00:00', 'moddate': '2024-11-13T07:32:51+00:00', 'source': 'document.pdf', 'total_pages': 12, 'page': 5, 'page_label': '6'}, page_content='.\\ngestion des stocks\\nStocker ces produits ou matières premières de manière organisée et efﬁcace, tout\\nen évitant les excédents ou les ruptures de stock.\\nBureau des études : conception du produit\\nBureau des méthodes : préparation de la production\\nOrdonnancement : organisation de la fabrication dans le temps\\nLancement en production\\nAteliers de production\\ncontrôle de qualité\\n1. la démarche qualité\\n2'), Document(metadata={'producer': 'Skia/PDF m114', 'creator': 'Mozilla/5.0 (Windows NT 10.0; Win64; x64) AppleWebKit/537.36 (KHTML, like Gecko) obsidian/1.5.3 Chrome/114.0.5735.289 Electron/25.8.1 Safari/537.36', 'creationdate': '2024-11-13T07:32:51+00:00', 'moddate': '2024-11-13T07:32:51+00:00', 'source': 'document.pdf', 'total_pages': 12, 'page': 5, 'page_label': '6'}, page_content=\". le management par la qualité totale\\nﬂux interne : rentrer dan l'entreprise\\nﬂux externe : sortie de l'entreprise\\nRôle de régulation : protection contre aléas de transport, réponse à une\\ndemande aléatoire\\nRôle ﬁnancier : stocker des produits coûteux (dans le cas où ça augmente)\\nRôle commercial : diminution des délais de livraison par des achats de\\nquantités\\nRôle technique : amélioration de la qualité des produits\\nRôle économique : commandes importantes => diminuer le coût de transport\"), Document(metadata={'producer': 'Skia/PDF m114', 'creator': 'Mozilla/5.0 (Windows NT 10.0; Win64; x64) AppleWebKit/537.36 (KHTML, like Gecko) obsidian/1.5.3 Chrome/114.0.5735.289 Electron/25.8.1 Safari/537.36', 'creationdate': '2024-11-13T07:32:51+00:00', 'moddate': '2024-11-13T07:32:51+00:00', 'source': 'document.pdf', 'total_pages': 12, 'page': 6, 'page_label': '7'}, page_content=\"gestion de prod\\nFinancement de l'entreprise\\nles besoins de financement de l'entreprise\\nBesoin de financement de financement ?\\nexploitation\\nLes moyens/sources de financement de l'entreprise\\ngestion stock (quand, combien, comment, à quel moment, combien ça coute)\\ns'assurer de produire quand il faut\\nqualité\\nméthode de winson (graphe dérivée)\\nInvestissements matériels : Ce type de ﬁnancement vise à acquérir des biens\\nphysiques (machines, équipements, infrastructures) dans le but de :\\nconstituer et renforcer le potentiel de production de l'entreprise,\\naccroître les capacités de production,\\nréaliser des gains de productivité,\\nencourager l'innovation\"), Document(metadata={'producer': 'Skia/PDF m114', 'creator': 'Mozilla/5.0 (Windows NT 10.0; Win64; x64) AppleWebKit/537.36 (KHTML, like Gecko) obsidian/1.5.3 Chrome/114.0.5735.289 Electron/25.8.1 Safari/537.36', 'creationdate': '2024-11-13T07:32:51+00:00', 'moddate': '2024-11-13T07:32:51+00:00', 'source': 'document.pdf', 'total_pages': 12, 'page': 6, 'page_label': '7'}, page_content=\".\\nInvestissements immatériels : Ils regroupent les dépenses qui n'ont pas de\\nsupport physique mais qui augmentent la valeur de l’entreprise. On distingue\\nquatre grandes catégories :\\nRecherche et développement (R&D) : pour innover et développer de\\nnouveaux produits ou procédés, (brevé)\\nLogiciels : pour améliorer les outils informatiques et la gestion des\\nopérations\"), Document(metadata={'producer': 'Skia/PDF m114', 'creator': 'Mozilla/5.0 (Windows NT 10.0; Win64; x64) AppleWebKit/537.36 (KHTML, like Gecko) obsidian/1.5.3 Chrome/114.0.5735.289 Electron/25.8.1 Safari/537.36', 'creationdate': '2024-11-13T07:32:51+00:00', 'moddate': '2024-11-13T07:32:51+00:00', 'source': 'document.pdf', 'total_pages': 12, 'page': 6, 'page_label': '7'}, page_content='.\\nInvestissements ﬁnanciers : Ces ﬁnancements incluent les prises de\\nparticipation dans d’autres entreprises, les acquisitions stratégiques et autres\\nplacements ﬁnanciers visant à accroître la valeur ou la sécurité de l’entreprise.\\nles sources de ﬁnancement des investissements (ﬁnancer les biens durables,\\nmachines, locaux, besoin à long terme)'), Document(metadata={'producer': 'Skia/PDF m114', 'creator': 'Mozilla/5.0 (Windows NT 10.0; Win64; x64) AppleWebKit/537.36 (KHTML, like Gecko) obsidian/1.5.3 Chrome/114.0.5735.289 Electron/25.8.1 Safari/537.36', 'creationdate': '2024-11-13T07:32:51+00:00', 'moddate': '2024-11-13T07:32:51+00:00', 'source': 'document.pdf', 'total_pages': 12, 'page': 7, 'page_label': '8'}, page_content=\"Analyse financière de l'entreprise (BILAN)\\ndocument d'analyse une durée (1ans) entre le actif et le passif (un avis sur la santé\\nﬁnancière) => patrimoine de l'entreprise en un instant T\\nActifs stables (immobilisés)\\nbiens durables, bâtiment, équipement, brevets, nécessaires à l'activité de\\nl'entreprise et qui ne changent pas rapidement de forme (plus d'un an)\\nCapitaux stables (propres)\\napports des actionnaires et bénéﬁces non distribués (capital), et les dettes à long\\nterme (ﬁnance les actifs stable car ressources ﬁnancières durables)\\ncapital social : fonds apportés par les actionnaires lors de la création de\\nl'entreprise (non remboursé)\\nautoﬁnancement : fonds générés par l'entreprise (bénéﬁces non\\ndistribués)\\nemprunt : (prêts auprès des banques à remboursés avec des intérêts)\\ncrédit-bail : location de bien avec option d'achat à la ﬁn de la période de\\nlocation\\nles sources de ﬁnancement de l'exploitation (besoin à court terme de\\nl'entreprise)\\ncapitaux permanents : ressources ﬁnancières stables, fond de roulement\\nconstitué par les capitaux propres et les dettes à long terme\\ndettes à court terme (fournisseurs, banques, sociétés d'affacturage)\\ncrédit fournisseurs\\ndécouverts bancaires\\naffacturage : une société d'affacturage avance les fonds et se charge\\nde récupérer les paiements auprès des clients\\nescompte bancaire des effets de commerce : transformer des\\ncréances (factures) en liquidités immédiates auprès des banques qui\\nse chargent de récupérer l'agent des clients\"), Document(metadata={'producer': 'Skia/PDF m114', 'creator': 'Mozilla/5.0 (Windows NT 10.0; Win64; x64) AppleWebKit/537.36 (KHTML, like Gecko) obsidian/1.5.3 Chrome/114.0.5735.289 Electron/25.8.1 Safari/537.36', 'creationdate': '2024-11-13T07:32:51+00:00', 'moddate': '2024-11-13T07:32:51+00:00', 'source': 'document.pdf', 'total_pages': 12, 'page': 8, 'page_label': '9'}, page_content='=> si (couverture des actifs stables = capitaux stables/actifs stables) >1 => bonne\\nsanté ﬁnancière et stabilité\\nActifs circulants\\nCe sont les éléments de l’actif qui se transforment rapidement en liquidités,\\ncomme les stocks, les créances clients, et les liquidités elles-mêmes. Ils servent à\\nﬁnancer l’activité quotidienne de l’entreprise'), Document(metadata={'producer': 'Skia/PDF m114', 'creator': 'Mozilla/5.0 (Windows NT 10.0; Win64; x64) AppleWebKit/537.36 (KHTML, like Gecko) obsidian/1.5.3 Chrome/114.0.5735.289 Electron/25.8.1 Safari/537.36', 'creationdate': '2024-11-13T07:32:51+00:00', 'moddate': '2024-11-13T07:32:51+00:00', 'source': 'document.pdf', 'total_pages': 12, 'page': 8, 'page_label': '9'}, page_content='. Ils servent à\\nﬁnancer l’activité quotidienne de l’entreprise.\\nDettes circulantes (ou dettes moyen court terme)\\nCe sont les dettes exigibles à court terme, comme les dettes fournisseurs, les\\ndettes ﬁscales et sociales, et les découverts bancaires'), Document(metadata={'producer': 'Skia/PDF m114', 'creator': 'Mozilla/5.0 (Windows NT 10.0; Win64; x64) AppleWebKit/537.36 (KHTML, like Gecko) obsidian/1.5.3 Chrome/114.0.5735.289 Electron/25.8.1 Safari/537.36', 'creationdate': '2024-11-13T07:32:51+00:00', 'moddate': '2024-11-13T07:32:51+00:00', 'source': 'document.pdf', 'total_pages': 12, 'page': 8, 'page_label': '9'}, page_content='.\\n=> ratio de liquidité générale = actifs circulants/dettes circulantes\\nactif passif\\nactifs stables capitaux stables\\nactifs circulants dettes circulantes\\ntotal actif (disponibilités) total passif (trésorerie passive)\\nFonds de roulement\\nFRNG = capitaux stables - actifs stables\\nsi > 0 : l’entreprise a des ressources stables supplémentaires pour ﬁnancer une\\npartie de ses actifs circulants'), Document(metadata={'producer': 'Skia/PDF m114', 'creator': 'Mozilla/5.0 (Windows NT 10.0; Win64; x64) AppleWebKit/537.36 (KHTML, like Gecko) obsidian/1.5.3 Chrome/114.0.5735.289 Electron/25.8.1 Safari/537.36', 'creationdate': '2024-11-13T07:32:51+00:00', 'moddate': '2024-11-13T07:32:51+00:00', 'source': 'document.pdf', 'total_pages': 12, 'page': 8, 'page_label': '9'}, page_content='. équilibre ﬁnancier\\nsinon : risque ﬁnancier important (ﬁnancement des actifs stables par une partie des\\ndettes circulantes)\\nBesoin en fonds de roulement\\nIl correspond aux besoins de ﬁnancement liés à l’exploitation quotidienne de\\nl’entreprise.\\nBFR = actifs circulants (stock + créance) - dettes circulantes\\nsi >0 : besoin de ﬁnancement supplémentaire pour les opérations courantes\\nTrésorerie nette'), Document(metadata={'producer': 'Skia/PDF m114', 'creator': 'Mozilla/5.0 (Windows NT 10.0; Win64; x64) AppleWebKit/537.36 (KHTML, like Gecko) obsidian/1.5.3 Chrome/114.0.5735.289 Electron/25.8.1 Safari/537.36', 'creationdate': '2024-11-13T07:32:51+00:00', 'moddate': '2024-11-13T07:32:51+00:00', 'source': 'document.pdf', 'total_pages': 12, 'page': 9, 'page_label': '10'}, page_content=\"Trésorerie nette = fond de roulement (FRNG) - besoin en fond de roulement (BFR)\\nRatios de structure financière\\nCompte de résultat\\ndéterminer la rentabilité économique de l'activité sur une période plus courte\\ncharges d'exploitation\\nDépenses liées à l’activité principale (achats de marchandises, frais de personnel,\\nfrais de location, etc.).\\nProduits d'exploitation\\nRevenus générés par l'activité principale de l’entreprise (ventes de produits,\\nprestations de services, etc\"), Document(metadata={'producer': 'Skia/PDF m114', 'creator': 'Mozilla/5.0 (Windows NT 10.0; Win64; x64) AppleWebKit/537.36 (KHTML, like Gecko) obsidian/1.5.3 Chrome/114.0.5735.289 Electron/25.8.1 Safari/537.36', 'creationdate': '2024-11-13T07:32:51+00:00', 'moddate': '2024-11-13T07:32:51+00:00', 'source': 'document.pdf', 'total_pages': 12, 'page': 9, 'page_label': '10'}, page_content=\".).\\nProduits d'exploitation\\nRevenus générés par l'activité principale de l’entreprise (ventes de produits,\\nprestations de services, etc.), chiffre d'affaires\\nCharges financières\\nCoûts liés aux ﬁnancements (intérêts d’emprunts, frais bancaires, etc.)\\nProduits financiers\\nsi >0 : l’entreprise a des liquidités excédentaires après avoir couvert son\\nbesoin de ﬁnancement de l’exploitation.\\nsinon : L’entreprise peut avoir besoin de renforcer sa trésorerie par des\\nﬁnancements externes\"), Document(metadata={'producer': 'Skia/PDF m114', 'creator': 'Mozilla/5.0 (Windows NT 10.0; Win64; x64) AppleWebKit/537.36 (KHTML, like Gecko) obsidian/1.5.3 Chrome/114.0.5735.289 Electron/25.8.1 Safari/537.36', 'creationdate': '2024-11-13T07:32:51+00:00', 'moddate': '2024-11-13T07:32:51+00:00', 'source': 'document.pdf', 'total_pages': 12, 'page': 9, 'page_label': '10'}, page_content=\".\\nratio d'indépendance ﬁnancière = capitaux propres/capitaux permanents\\npermet de connaître la capacité de l'entreprise à ﬁnancer par ses propres\\nmoyen > 50%\\nratio d'autonomie ﬁnancière = capitaux propre/total bilan\\nmesure la part de ﬁnancement propore de l'entreprise par rapport à\\nl'ensemble des ﬁnancements : si >20% => satisfaisant\\ntresorierie actif TA\\ntreorerie passif (CBC = compte bancaire courant) TP\\ntresorerie = TA - TP\"), Document(metadata={'producer': 'Skia/PDF m114', 'creator': 'Mozilla/5.0 (Windows NT 10.0; Win64; x64) AppleWebKit/537.36 (KHTML, like Gecko) obsidian/1.5.3 Chrome/114.0.5735.289 Electron/25.8.1 Safari/537.36', 'creationdate': '2024-11-13T07:32:51+00:00', 'moddate': '2024-11-13T07:32:51+00:00', 'source': 'document.pdf', 'total_pages': 12, 'page': 10, 'page_label': '11'}, page_content='Revenus provenant des placements ﬁnanciers (intérêts perçus, dividendes, etc.).\\nCharges exceptionnels\\nDépenses non récurrentes (pénalités, pertes sur des actifs, restructuration)'), Document(metadata={'producer': 'Skia/PDF m114', 'creator': 'Mozilla/5.0 (Windows NT 10.0; Win64; x64) AppleWebKit/537.36 (KHTML, like Gecko) obsidian/1.5.3 Chrome/114.0.5735.289 Electron/25.8.1 Safari/537.36', 'creationdate': '2024-11-13T07:32:51+00:00', 'moddate': '2024-11-13T07:32:51+00:00', 'source': 'document.pdf', 'total_pages': 12, 'page': 10, 'page_label': '11'}, page_content=\".\\nProduits exceptionnels\\nRevenus non récurrents (vente d’actifs, subventions exceptionnelles), plus values de\\ncession\\nCalcule des soldes intermédiaires\\nRésultat net\\nrésultat net = résultat avant impôt + résultat exceptionnel - impôt sur les bénéﬁces\\nressources humaines : RSE et ?\\netude de cas\\nmarge brute = ventes de biens - coût des ventes\\nmesure la rentabilité des ventes\\nrésultat d'exploitation = produits d'exploitation - charges d'exploitation\\nreprésente le bénéﬁce ou la perte générée par l'activité principale de\\nl'entreprise, permet de juger de la rentabilité et performance de l'activité de\\nl'entreprise\\nrésultat ﬁnancier = produits ﬁnanciers - charges ﬁnancières\\nindique le gain ou la perte liée aux opérations ﬁnancières de l’entreprise\\n(comme les emprunts et les placements)\"), Document(metadata={'producer': 'Skia/PDF m114', 'creator': 'Mozilla/5.0 (Windows NT 10.0; Win64; x64) AppleWebKit/537.36 (KHTML, like Gecko) obsidian/1.5.3 Chrome/114.0.5735.289 Electron/25.8.1 Safari/537.36', 'creationdate': '2024-11-13T07:32:51+00:00', 'moddate': '2024-11-13T07:32:51+00:00', 'source': 'document.pdf', 'total_pages': 12, 'page': 10, 'page_label': '11'}, page_content=\".\\nrésultat courant avant impôt = résultat exploitation - résultat ﬁnancier\\nmontre la performance de l'entreprise en prenant en compte l’activité\\nprincipale et les opérations ﬁnancières, mais pas les éléments exceptionnels.\\nrésultat exceptionnel = produits exceptionnel - charges exceptionnelles\\ndiagnotique interne (force / faiblesse)\\nintro : (présentation entreprise) et chema ur le diagnotic\"), Document(metadata={'producer': 'Skia/PDF m114', 'creator': 'Mozilla/5.0 (Windows NT 10.0; Win64; x64) AppleWebKit/537.36 (KHTML, like Gecko) obsidian/1.5.3 Chrome/114.0.5735.289 Electron/25.8.1 Safari/537.36', 'creationdate': '2024-11-13T07:32:51+00:00', 'moddate': '2024-11-13T07:32:51+00:00', 'source': 'document.pdf', 'total_pages': 12, 'page': 11, 'page_label': '12'}, page_content='déterminer la capacité stratégique (développer les forces et arranger les\\nfaiblesses) => conclure\\nutilier la chaine de valeur de porter (conclure)\\ndiagnostique externe (menaces / opportunité)\\nractif (réagir) ou proactif (anticiper)\\nfaire ur un DAS\\nfacteur clé de succès (comment bien me positionner par rapport au\\nconcurrent)\\npestel\\npolitique\\neconomique\\nociologique\\ntechnolohique\\necologique\\nlegal\\nporter\\n=> avantage concurrentiel (création de valeur)\\ndeterminer la strategie')]\n"
     ]
    }
   ],
   "execution_count": 5
  },
  {
   "cell_type": "code",
   "metadata": {
    "ExecuteTime": {
     "end_time": "2025-02-21T17:47:18.555396Z",
     "start_time": "2025-02-21T17:46:33.135835Z"
    }
   },
   "source": [
    "from langchain.vectorstores import FAISS\n",
    "\n",
    "vectorstore = FAISS.from_documents(chunks, model)\n",
    "vectorstore.save_local(\"vectorstore.db\")\n"
   ],
   "outputs": [],
   "execution_count": 7
  },
  {
   "cell_type": "code",
   "metadata": {
    "ExecuteTime": {
     "end_time": "2025-02-21T17:48:09.279810Z",
     "start_time": "2025-02-21T17:48:09.273706Z"
    }
   },
   "source": "question = \"quelle est la définition d'une entreprise?\"",
   "outputs": [],
   "execution_count": 8
  },
  {
   "cell_type": "code",
   "metadata": {
    "ExecuteTime": {
     "end_time": "2025-02-21T17:48:12.675233Z",
     "start_time": "2025-02-21T17:48:12.092024Z"
    }
   },
   "source": [
    "docs = vectorstore.similarity_search(question, k = 2)"
   ],
   "outputs": [],
   "execution_count": 9
  },
  {
   "cell_type": "code",
   "metadata": {
    "ExecuteTime": {
     "end_time": "2025-02-21T17:48:30.690122Z",
     "start_time": "2025-02-21T17:48:30.684702Z"
    }
   },
   "source": [
    "for doc in docs:\n",
    "    print(\"===========================================\")\n",
    "    print(doc.page_content)"
   ],
   "outputs": [
    {
     "name": "stdout",
     "output_type": "stream",
     "text": [
      "===========================================\n",
      "CM1 - Economie d'entreprise\n",
      "Entreprise\n",
      "Une organisation à vocation lucrative et sociétale vise la pérennité dans le temps\n",
      "en générant des proﬁts pouvant être une personne physique ou morale. Elle\n",
      "propose un bien ou un service issu de l'achat ou de la production, en mobilisant\n",
      "des ressources matérielles, immatérielles et humaines, et s'appuie sur une structure\n",
      "organisationnelle déﬁnie. Elle se distingue par son secteur d'activité et est guidée\n",
      "par une mission sociétale et des principes éthiques\n",
      "===========================================\n",
      ".\n",
      "==Types d'entreprises\n",
      "Acteurs de l'entreprise\n",
      "La stratégie\n",
      "permet d'analyser la situation présente et de développer une vision de ce que\n",
      "serait le futur souhaitable de l'entreprise\n",
      "Valeur économique\n",
      "la différence entre la valeur perçue et payée par le client et les coûts supportés\n",
      "pour l'obtenir\n",
      "Entreprise de négoce : approvisionnement, stockage et vente (sans\n",
      "transformation)\n",
      "Entreprise industrielle : approvisionnement, stockage, transformation\n",
      "(production) et vente\n",
      "Entreprise prestataire de service : utilisation des compétences salariales pour\n",
      "offrir des services immatériels (approvisionnement)\n",
      "Dirigeant : pouvoir et prise de risque\n",
      "Actionnaire : dividendes ﬁnancière, sécurité\n",
      "Salariés : salaires, sécurité de l'emploi\n"
     ]
    }
   ],
   "execution_count": 11
  }
 ],
 "metadata": {
  "kernelspec": {
   "display_name": ".venv",
   "language": "python",
   "name": "python3"
  },
  "language_info": {
   "codemirror_mode": {
    "name": "ipython",
    "version": 3
   },
   "file_extension": ".py",
   "mimetype": "text/x-python",
   "name": "python",
   "nbconvert_exporter": "python",
   "pygments_lexer": "ipython3",
   "version": "3.12.0"
  }
 },
 "nbformat": 4,
 "nbformat_minor": 2
}
