{
 "cells": [
  {
   "cell_type": "code",
   "metadata": {
    "ExecuteTime": {
     "end_time": "2024-12-25T13:30:45.375524Z",
     "start_time": "2024-12-25T13:30:45.152407Z"
    }
   },
   "source": [
    "import transformers\n",
    "from langchain.embeddings import HuggingFaceEmbeddings\n",
    "model_kwargs = {\"device\": \"cpu\"}\n",
    "encode_kwargs = {\"normalize_embeddings\": True}\n",
    "\n",
    "model_path = \"BAAI/bge-m3\"\n",
    "\n",
    "model = HuggingFaceEmbeddings(\n",
    "    model_name=model_path, \n",
    "    model_kwargs=model_kwargs, \n",
    "    encode_kwargs=encode_kwargs\n",
    ")"
   ],
   "outputs": [
    {
     "ename": "ModuleNotFoundError",
     "evalue": "No module named 'transformers'",
     "output_type": "error",
     "traceback": [
      "\u001B[1;31m---------------------------------------------------------------------------\u001B[0m",
      "\u001B[1;31mModuleNotFoundError\u001B[0m                       Traceback (most recent call last)",
      "Cell \u001B[1;32mIn[1], line 1\u001B[0m\n\u001B[1;32m----> 1\u001B[0m \u001B[38;5;28;01mimport\u001B[39;00m \u001B[38;5;21;01mtransformers\u001B[39;00m\n\u001B[0;32m      2\u001B[0m \u001B[38;5;28;01mfrom\u001B[39;00m \u001B[38;5;21;01mlangchain\u001B[39;00m\u001B[38;5;21;01m.\u001B[39;00m\u001B[38;5;21;01membeddings\u001B[39;00m \u001B[38;5;28;01mimport\u001B[39;00m HuggingFaceEmbeddings\n\u001B[0;32m      3\u001B[0m model_kwargs \u001B[38;5;241m=\u001B[39m {\u001B[38;5;124m\"\u001B[39m\u001B[38;5;124mdevice\u001B[39m\u001B[38;5;124m\"\u001B[39m: \u001B[38;5;124m\"\u001B[39m\u001B[38;5;124mcpu\u001B[39m\u001B[38;5;124m\"\u001B[39m}\n",
      "\u001B[1;31mModuleNotFoundError\u001B[0m: No module named 'transformers'"
     ]
    }
   ],
   "execution_count": 1
  },
  {
   "cell_type": "code",
   "execution_count": 22,
   "metadata": {},
   "outputs": [],
   "source": [
    "from langchain.text_splitter import RecursiveCharacterTextSplitter\n",
    "from langchain.vectorstores import FAISS\n",
    "from langchain_community.document_loaders import PyPDFLoader\n",
    "\n",
    "text_splitter = RecursiveCharacterTextSplitter(\n",
    "    chunk_size=500, \n",
    "    chunk_overlap=150,\n",
    "    separators= ['.']\n",
    "    )"
   ]
  },
  {
   "cell_type": "code",
   "execution_count": 23,
   "metadata": {},
   "outputs": [],
   "source": [
    "loader = PyPDFLoader(\"Oulkadi-TP1.pdf\")\n",
    "documents = loader.load()"
   ]
  },
  {
   "cell_type": "code",
   "execution_count": 24,
   "metadata": {},
   "outputs": [
    {
     "name": "stdout",
     "output_type": "stream",
     "text": [
      "[Document(metadata={'source': 'Oulkadi-TP1.pdf', 'page': 0}, page_content='Rapport de TP Base de donn´ ees\\nPrise en main de PostgreSQL\\nIntroduction aux diff´ erents concepts\\n2024/2025\\nR´ ealis´ e par :\\nDania OULKADI\\nAPP3 - Informatique'), Document(metadata={'source': 'Oulkadi-TP1.pdf', 'page': 1}, page_content='1 Partie A - Introduction\\n1.1 Notion de table\\nEntre CHAR et VARCHAR La distinction majeure entre char et varchar r´ eside dans la mani` ere dont ils\\ng` erent la longueur des donn´ ees. Le type de donn´ ees char est con¸ cu pour stocker des caract` eres de longueur fixe,\\ntandis que le type varchar permet de stocker des caract` eres de longueur variable'), Document(metadata={'source': 'Oulkadi-TP1.pdf', 'page': 1}, page_content='.\\nLorsque la chaˆ ıne de caract` eres enregistr´ ee est plus courte que la taille sp´ ecifi´ ee, le type char remplit les\\noctets restants avec des espaces. En revanche, le type varchar ne consigne que la longueur effective de la chaˆ ıne,\\nen ajoutant quelques octets suppl´ ementaires pour stocker les informations de longueur'), Document(metadata={'source': 'Oulkadi-TP1.pdf', 'page': 1}, page_content='.\\nFonctionnement de SELECT\\nSELECT pk_num_secu , ck_num_etu , nom , prenom FROM t_etudiant ;\\nSELECT * FROM t_etudiant ;\\nSELECT nom , prenom FROM t_etudiant ;\\nFonctionnement du SELECT le select permet de filtrer les attributs r´ ecup´ er´ es, en d’autre terme faire une\\nprojection sur les attributs de la relation.\\n1'), Document(metadata={'source': 'Oulkadi-TP1.pdf', 'page': 2}, page_content='1.2 Notion de contrainte d’int´ egrit´ e\\nContrainte de domaine L’ex´ ecution de l’instruction d’insertion d´ eclenche une violation de contrainte, l’at-\\ntribut ck num etu est un VARCHAR(20) donc une chaˆ ıne de caract` eres dynamique de longueur maximal de 20\\nmais on essaye d’ins´ erer une valeur de 26 caract` eres'), Document(metadata={'source': 'Oulkadi-TP1.pdf', 'page': 2}, page_content=\".\\nExemple de contrainte pertinente :Le prenom et le nom de l’´ etudiant doivent ˆ etre connu dans la\\ntable, l’instruction qui aurait permis de prendre en compte cela :\\n-- le prendre en compte d` es la premi` ere cr´ eation de la table\\nCREATE TABLE t_etudiant (\\npk_num_secu CHAR (13) PRIMARY KEY ,\\nck_num_etu VARCHAR (20) UNIQUE NOT NULL ,\\nnom VARCHAR (50) NOT NULL ,\\nprenom VARCHAR (50) NOT NULL\\n) ;\\n-- l'ajouter apr` es construction\\nALTER TABLE t_etudiant\\nALTER COLUMN nom SET NOT NULL,\\nALTER COLUMN prenom SET NOT NULL;\\nContrainte de cl´ e\\n1\"), Document(metadata={'source': 'Oulkadi-TP1.pdf', 'page': 2}, page_content='. Insertion 1 : la valeur d’une cl´ e dupliqu´ ee rompt la contrainte unique ≪ t etudiant pkey ≫. La cl´ e\\n≪ (pk num secu)=(1840791123456) ≫ existe d´ ej` a donc impossible d’inserer\\n2. Insertion 2 : une valeur NULL viole la contrainte NOT NULL de la colonne ≪ pk num secu ≫. On essaye\\nd’inserer une ligne sans donner la cl´ e primaire pknum secu\\n3. Insertion 3 : la valeur d’une cl´ e dupliqu´ ee rompt la contrainte unique ≪ ck num etu key ≫. La cl´ e\\n≪ (ck num etu)=(DUP1840703) ≫ existe d´ ej` a'), Document(metadata={'source': 'Oulkadi-TP1.pdf', 'page': 2}, page_content='. La cl´ e\\n≪ (ck num etu)=(DUP1840703) ≫ existe d´ ej` a.\\n4. Insertion 4 : est bien ex´ ecut´ ee.\\n5. Oui nous pouvons ins´ erer dans la table tetudiant un ´ el` eve dont le nom et le pr´ enom sont respectivement\\n’Dupont’ et ’Pierre’ car aucune contrainte d’unicit´ e sur ses colonnes.\\n1'), Document(metadata={'source': 'Oulkadi-TP1.pdf', 'page': 2}, page_content='.\\n1.3 Notion de r´ ef´ erence\\ncl´ es ´ etrang` eresLa table t inscription contient une cl´ e primaire compos´ e d’un num´ ero de code et de la cl´ e\\n´ etrang` ere fkcode etu qui fait r´ ef´ erence ` a la cl´ e primaire de la table tetudiant, elle lie chaque ´ etudiant ` a un\\ncode d’inscription, pour pouvoir ins´ erer dans cette table il faut d´ ej` a avoir un ´ etudiant dans la table tetudiant'), Document(metadata={'source': 'Oulkadi-TP1.pdf', 'page': 2}, page_content='.\\nPar exemple dans la premi` ere insertion on associe ` a l’´ etudiant qui a comme pfnum secu = 2820360978862 le\\ncode d’inscription IBD'), Document(metadata={'source': 'Oulkadi-TP1.pdf', 'page': 2}, page_content='.\\nContraintes d’int´ egrit´ e r´ ef´ erentielleLa contrainte r´ ef´ erentielle impose la pr´ esence de la r´ ef´ erence dans la\\ntable r´ ef´ erenc´ e, ce qui veut dire qu’on ne peut pas ins´ erer dans la table tinscription une cl´ e ´ etrang` ere qui est\\npas pr´ esente dans la table tetudiant, dans la troisi` eme instruction on a aucun enregistrement qui a comme cl´ e\\nprimaire 1700792001278 donc cela g´ en` ere une erreur\\n2'), Document(metadata={'source': 'Oulkadi-TP1.pdf', 'page': 3}, page_content='1'), Document(metadata={'source': 'Oulkadi-TP1.pdf', 'page': 3}, page_content=\".4 Notion de projection de restriction et de jointure\\nProjection L’instruction est appel´ ee projection car elle s´ electionne les attributs ` a r´ ecup´ erer depuis la table,\\nc’est une projection sur le nom et le pr´ enom, l’instruction pour obtenir le num´ ero et le nom des ´ etudiants :\\nSELECT ck_num_etu, nom FROM t_etudiant;\\nRestriction L’instruction est appel´ ee restriction car on pose une condition dans le WHERE sur les lignes ` a\\nr´ ecup´ erer, on veut r´ ecuperer que les ´ etudiants ayant comme nom = ’Dupont’, l’instruction pour obtenir le nom\\net pr´ enom de l’´ etudiant ayant comme numero de s´ ecurit´ e sociale est ’2850460789101’ :\\nSELECT nom, prenom FROM t_etudiant WHERE pk_num_secu = '2850460789101';\\nJointure L’instruction est appel´ ee jointure car fait une jointure (INNER JOIN) entre la table t etudiant et\\nla table t inscription en pr´ ecisant que l’attribut de jointure et le num´ ero de s´ ecurit´ e sociale qui correspond ` a\\nla cl´ e primaire de la table t etudiant pk num secu et la cl´ e ´ etrang` ere fkcode etu dans la table t inscription,\\nl’instruction pour obtenir la liste des ´ etudiants inscrits ` a l’UE ’IBD’ :\\nSELECT pk_code_ue, pk_num_secu , ck_num_etu , nom , prenom\\nFROM t_etudiant JOIN t_inscription ON pk_num_secu = fk_code_etu WHERE pk_code_ue = 'IBD';\\nProduit cart´ esien L’instruction est appel´ ee produit cart´ esien, car on utilise les deux table t etudiant et\\nt inscription, dans lequel chaque nom d’´ etudiant et ’muliplier’ pour chaque code d’UE, on peut reparler dans\\nproduit car que chaque nom correspond ` a tous les codes d’UE disponible dans la table t inscription\"), Document(metadata={'source': 'Oulkadi-TP1.pdf', 'page': 3}, page_content='.\\nLe produit cart´ esien est une jointure de chaque ligne d’une table ` a chaque ligne d’une autre table, (chaque\\nligne de la table t etudiant et dupliquer pour chaque ligne de t inscription.\\n3'), Document(metadata={'source': 'Oulkadi-TP1.pdf', 'page': 4}, page_content='1.5 Notion de fonction et d’agr´ egation\\nR´ einitialisation de la base de donn´ eesEn essayant de supprimer la table t etudiant directement ¸ ca g´ en` ere\\nune erreur li´ e ` a la contrainte de cl´ e ´ etrang` ere, les cl´ es primaires pknum secu sont encore r´ ef´ erenc´ ee dans la\\ntable t inscription, nous pouvons rem´ edier ` a cela en ajoutant une contrainte de suppression en cascade sur cette\\ncl´ e'), Document(metadata={'source': 'Oulkadi-TP1.pdf', 'page': 4}, page_content='.\\nFonction L’instruction fait une projection sur la table t inscription pour r´ ecup´ erer les lignes ayant comme\\ncl´ e ´ etrang` ere fkcode etu = 1, donc compte le nombre d’EU auxquelles l’´ etudiant dont la cl´ e est ´ egale ` a 1.\\nAgr´ egationL’instruction compte le nombre de d’´ etudiant identifi´ e par la cl´ e ´ etrang` eres fkcode etu sont\\ninscrits dans chaque EU'), Document(metadata={'source': 'Oulkadi-TP1.pdf', 'page': 4}, page_content='.\\nAgr´ egationL’instruction compte le nombre de d’´ etudiant identifi´ e par la cl´ e ´ etrang` eres fkcode etu sont\\ninscrits dans chaque EU.\\nUne agr´ egation par rapport ` a une fonction permet de r´ esumer ou de calculer des valeurs sur un ensemble\\nde lignes dans une table, telles que la somme, la moyenne, le comptage, la valeur maximale, la valeur minimale,\\netc., en option avec un regroupement bas´ e sur des colonnes sp´ ecifiques ` a l’aide de la clause ‘GROUP BY‘'), Document(metadata={'source': 'Oulkadi-TP1.pdf', 'page': 4}, page_content='., en option avec un regroupement bas´ e sur des colonnes sp´ ecifiques ` a l’aide de la clause ‘GROUP BY‘.\\n2 Partie B : Int´ eragir avec la base de donn´ eess Biblioth` eque\\n2.1 Cr´ eation de la base de donn´ ees avec contraintes\\n2.1.1 Question 4\\nLe code de cr´ eation de tables DDL avec les contraintes :\\ncreate table livre(\\nid_livre smallint ,\\ntitre varchar (30) ,\\ndate_creation smallint NOT NULL,\\n-- id_livre cl´ e primaire\\nCONSTRAINT pk_livre PRIMARY KEY (id_livre)\\n);\\n4'), Document(metadata={'source': 'Oulkadi-TP1.pdf', 'page': 5}, page_content='create table exemplaire (\\nid_exemplaire smallint ,\\ndate_acquisition smallint NOT NULL,\\nannee_edition smallint NOT NULL,\\nid_livre smallint,\\n-- id_exemplaire cl´ e primaire\\nCONSTRAINT pk_exemplaire PRIMARY KEY (id_exemplaire),\\nCONSTRAINT fk_livre FOREIGN KEY (id_livre) REFERENCES livre\\n);\\ncreate table abonne(\\nid_abonne smallint ,\\nnom_abonne varchar (20) NOT NULL,\\ndate_naissance date NOT NULL,\\ndate_adhesion date NOT NULL,\\n-- id_abonne cl´ e primaire\\nCONSTRAINT pk_abonne PRIMARY KEY (id_abonne),\\nCONSTRAINT date_valide CHECK ( date_adhesion > abonne'), Document(metadata={'source': 'Oulkadi-TP1.pdf', 'page': 5}, page_content='.date_naissance )\\n);\\n2.1.2 Question 5\\nErreur sur la table LIVRE La deuxi` eme instruction d’insertion viole la contrainte de non nullit´ e de\\nl’attribut date creation, la cl´ e primaire et ´ egalement r´ ep´ et´ e donc viole la contrainte d’unicit´ e donc la ligne n’est\\npas ajout´ e dans la table ce qu’on remarque bien lors de la projection via SELECT * 2.1.2 qui r´ ecup` ere toute\\nles lignes de la table.\\nCorrection : ajouter une date de cr´ eation pour pouvoir ins´ erer une ligne de donn´ ee'), Document(metadata={'source': 'Oulkadi-TP1.pdf', 'page': 5}, page_content=\".\\nINSERT INTO LIVRE ( id_livre , titre , date_creation )\\nVALUES (1 , 'Idees noires' ,1931) ;\\nINSERT INTO LIVRE ( id_livre , titre, date_creation )\\nVALUES (2 , 'Le grand tsar blanc', 2020);\\nErreur sur la table EXEMPLAIRE Les deux instructions d’insertion violent la contrainte de cl´ e ´ etrang` eres\\nen essayant de r´ ef´ erencer une cl´ e non existante dans la table livre, cela ce confirme avec la derni` ere instruction\\navec laquelle on peut constater que la table est vide.\\n5\"), Document(metadata={'source': 'Oulkadi-TP1.pdf', 'page': 6}, page_content='Correction : Avant l’insertion v´ erifier l’existence dans la table livre, au besoin ins´ erer une ligne dans la table\\nlivre avant de la r´ ef´ erencer dans exemplaire\\nINSERT INTO exemplaire ( id_exemplaire , date_acquisition , annee_edition , id_livre )\\nVALUES (1 ,1995 ,1990 ,1) ;\\nINSERT INTO exemplaire ( id_exemplaire , date_acquisition , annee_edition , id_livre )\\nVALUES (2 ,1995 ,1991 ,2) ;\\nErreur sur la table ABONNE La deuxi` eme instruction d’insertion viole la contrainte de v´ erification entre\\nla date d’adh´ esion ’1959-04-01’ et la date de naissance ’2011-10-01’, la date de naissance est post´ erieure ` a la\\ndate d’adh´ esion'), Document(metadata={'source': 'Oulkadi-TP1.pdf', 'page': 6}, page_content=\".\\nCorrection : modifier la date d’adh´ esion pour qu’elle soit post´ erieure ` a la date de naissance, v´ erifier aussi la\\npr´ esence du nom de l’abonn´ e.\\nINSERT INTO abonne ( id_abonne , nom_abonne , date_naissance , date_adhesion )\\nVALUES (1 , 'Dupond','1973-05-15','2010-10-09');\\nINSERT INTO abonne ( id_abonne , nom_abonne , date_naissance , date_adhesion )\\nVALUES (2 , 'Schmidt','2011-10-01','2024-04-01');\\n2.1\"), Document(metadata={'source': 'Oulkadi-TP1.pdf', 'page': 6}, page_content='.1.3 Question 6\\nLes contraintes identifi´ ees depuis le sch´ ema relationnel :\\nEditeur\\n— Contrainte de cl´ e primaire sur idediteur\\n— Contrainte de non nullit´ e sur le nom et l’adresse de l’´ editeur\\nCREATE TABLE editeur(\\nid_editeur smallint,\\nnom VARCHAR(20) NOT NULL,\\nadresse VARCHAR(30) NOT NULL,\\n6'), Document(metadata={'source': 'Oulkadi-TP1.pdf', 'page': 7}, page_content='CONSTRAINT pk_editeur PRIMARY KEY (id_editeur)\\n);\\nEmprunte\\n— Contrainte de cl´ e ´ etrang` ere sur idabonne qui fait r´ ef´ erence ` a la table abonne\\n— Contrainte de cl´ e ´ etrang` ere sur idexemplaire qui fait r´ ef´ erence ` a la table exemplaire\\n— Contrainte de cl´ e primaire sur le couple (idabonne, id exemplaire)\\nCREATE TABLE emprunte(\\nid_abonne smallint,\\nid_exemplaire smallint,\\ndate_retour DATE,\\nCONSTRAINT pk_emprunt PRIMARY KEY (id_abonne, id_exemplaire),\\nCONSTRAINT fk_abonne FOREIGN KEY (id_abonne) REFERENCES abonne,\\nCONSTRAINT fk_exemplaire FOREIGN KEY (id_exemplaire) REFERENCES exemplaire\\n);\\nAuteur\\n— Contrainte de cl´ e primaire sur idauteur\\n— Contrainte de non nullit´ e sur le nom et le pr´ enom de l’auteur\\nCREATE TABLE auteur(\\nid_auteur smallint,\\nnom VARCHAR(20) NOT NULL,\\nprenom VARCHAR(20) NOT NULL,\\nCONSTRAINT pk_auteur PRIMARY KEY (id_auteur)\\n);\\nGenre\\n— Contrainte de cl´ e primaire sur idgenre\\n— Contrainte de non nullit´ e sur le nom du genre\\nCREATE TABLE genre(\\nid_genre smallint,\\nnom_genre VARCHAR(20) NOT NULL,\\nCONSTRAINT pk_genre PRIMARY KEY (id_genre)\\n);\\nCorrespond\\n— Contrainte de cl´ e ´ etrang` ere sur idgenre qui fait r´ ef´ erence ` a la table genre\\n— Contrainte de cl´ e ´ etrang` ere sur idlivre qui fait r´ ef´ erence ` a la table livre\\n— Contrainte de cl´ e primaire sur le couple (idlivre, id genre)\\nCREATE TABLE correspond(\\nid_genre smallint,\\nid_livre smallint,\\nCONSTRAINT pk_correspond PRIMARY KEY (id_genre, id_livre),\\n7'), Document(metadata={'source': 'Oulkadi-TP1.pdf', 'page': 8}, page_content='CONSTRAINT fk_genre FOREIGN KEY (id_genre) REFERENCES genre,\\nCONSTRAINT fk_livre FOREIGN KEY (id_livre) REFERENCES livre\\n);\\nEcrit\\n— Contrainte de cl´ e ´ etrang` ere sur idauteur qui fait r´ ef´ erence ` a la table auteur\\n— Contrainte de cl´ e ´ etrang` ere sur idlivre qui fait r´ ef´ erence ` a la table livre\\n— Contrainte de cl´ e primaire sur le couple (idauteur, id genre)\\nCREATE TABLE ecrit(\\nid_auteur smallint,\\nid_livre smallint,\\nCONSTRAINT pk_ecrit PRIMARY KEY (id_livre, id_auteur),\\nCONSTRAINT fk_auteur FOREIGN KEY (id_auteur) REFERENCES auteur,\\nCONSTRAINT fk_livre FOREIGN KEY (id_livre) REFERENCES livre\\n);\\nMot cle\\n— Contrainte de cl´ e primaire sur idmotcle\\n— Contrainte de non nullit´ e sur le mot cl´ e\\nCREATE TABLE mot_cle(\\nid_motcle smallint,\\nmotcle VARCHAR(10) NOT NULL ,\\nCONSTRAINT pk_motcle PRIMARY KEY (id_motcle)\\n);\\nDecrit\\n— Contrainte de cl´ e ´ etrang` ere sur idmotcle qui fait r´ ef´ erence ` a la table motcle\\n— Contrainte de cl´ e ´ etrang` ere sur idlivre qui fait r´ ef´ erence ` a la table livre\\n— Contrainte de cl´ e primaire sur le couple (idauteur, id genre)\\nCREATE TABLE decrit(\\nid_motcle smallint,\\nid_livre smallint,\\nCONSTRAINT pk_decrit PRIMARY KEY (id_motcle, id_livre),\\nCONSTRAINT fk_motcle FOREIGN KEY (id_motcle) REFERENCES mot_cle,\\nCONSTRAINT fk_livre FOREIGN KEY (id_livre) REFERENCES livre\\n);\\nExemplaire\\n— Contrainte de cl´ e ´ etrang` ere sur idediteur qui fait r´ ef´ erence ` a la table editeur\\nCREATE TABLE exemplaire (\\nid_exemplaire smallint ,\\ndate_acquisition smallint NOT NULL,\\nannee_edition smallint NOT NULL,\\nid_livre smallint,\\n8'), Document(metadata={'source': 'Oulkadi-TP1.pdf', 'page': 9}, page_content=\"id_editeur smallint,\\n-- id_exemplaire cl´ e primaire\\nCONSTRAINT pk_exemplaire PRIMARY KEY (id_exemplaire),\\nCONSTRAINT fk_livre FOREIGN KEY (id_livre) REFERENCES livre,\\nCONSTRAINT fk_editeur FOREIGN KEY (id_editeur) REFERENCES editeur\\n);\\n2.2 Modification du sch´ ema relationnel et des donn´ ees\\n2.2.1 Question 7\\n-- Ajout de l'attribut email\\nALTER TABLE editeur ADD email VARCHAR(20);\\n2.2\"), Document(metadata={'source': 'Oulkadi-TP1.pdf', 'page': 9}, page_content=\".2 Modification du sch´ ema relationnel et des donn´ ees\\n2.2.1 Question 7\\n-- Ajout de l'attribut email\\nALTER TABLE editeur ADD email VARCHAR(20);\\n2.2.2 Question 8\\n-- contrainte non null ` a date-acquisition\\nALTER TABLE exemplaire ALTER COLUMN date_acquisition SET NOT NULL;\\n2\"), Document(metadata={'source': 'Oulkadi-TP1.pdf', 'page': 9}, page_content=\".3 Question 9\\nALTER TABLE emprunte ALTER COLUMN date_retour SET DEFAULT '01-01-2021';\\n-- insertion d'un exemple sans date de retour\\nINSERT INTO emprunte (id_abonne, id_exemplaire)\\nVALUES (1,1);\\n-- insertion d'un exemple avec date de retour\\nINSERT INTO emprunte(id_abonne, id_exemplaire, date_retour)\\nVALUES (2,2, '12-12-2020');\\nNous pouvons remarquer d’apr` es la projection que lorsque la date de retour n’est pas fourni elle est par d´ efaut\\ninitialis´ ee au 01-01-2021 :\\n2.3\"), Document(metadata={'source': 'Oulkadi-TP1.pdf', 'page': 9}, page_content=\".3.1 Question 10\\nScript d’insertion des tables du sch´ ema :\\nINSERT INTO auteur (id_auteur, nom, prenom)\\nVALUES (1, 'Victor', 'hugo'),\\n(2, 'Wiliam', 'Chaper'),\\n(3, 'Khadra', 'Yasmina');\\n9\"), Document(metadata={'source': 'Oulkadi-TP1.pdf', 'page': 10}, page_content=\"INSERT INTO ecrit (id_auteur, id_livre)\\nVALUES (1,1), (2,2), (3,3), (1,4), (2,5), (3,6),\\n(1,7), (2,8), (3,9), (1,10), (2,11);\\nINSERT INTO genre (id_genre, nom_genre)\\nVALUES (1, 'roman policier'), (2, 'histoire'), (3, 'phylosophie');\\nINSERT INTO correspond (id_genre, id_livre)\\nVALUES (1,1), (2,2), (3,3), (1,4), (2,5), (3,6),\\n(1,7), (2,8), (3,9), (1,10), (2,11);\\nINSERT INTO mot_cle (id_motcle, motcle)\\nVALUES (1, 'livre'), (2, 'mots'), (3, ' histoire');\\nINSERT INTO decrit (id_motcle, id_livre)\\nVALUES (1,1), (2,3), (3,6), (1,8);\\nINSERT INTO editeur (id_editeur, nom, adresse, email)\\nVALUES (1, 'Gallimard', '5 rue sebastien bottin', 'g@gmial'),\\n(2, 'Hachette livre', '58 rue jean bleuzen', 'de@gl'),\\n(3, 'flammarion', '8 quai du quai', 'ada@aaa');\\nINSERT INTO abonne (id_abonne, nom_abonne, date_naissance, date_adhesion)\\nVALUES (3, 'jean', '11-2-2020', '2-5-2023'),\\n(4, 'editeur', '12-02-1999', '03-06-2002');\\nINSERT INTO exemplaire (id_exemplaire, date_acquisition, annee_edition, id_livre, id_editeur)\\nVALUES (3, 2020, 2020, 2, 1),\\n(4, 2022, 2022, 5, 1),\\n(5, 2023, 2023, 9, 3);\\nINSERT INTO emprunte (id_abonne, id_exemplaire, date_retour)\\nVALUES (3,4, '1-02-2020'),\\n(2,3, '02-05-2020'),\\n(3,2, '15-6-2012');\\n3 Partie C : Interrogation de la base de donn´ ees - requˆ etes SQL\\n3\"), Document(metadata={'source': 'Oulkadi-TP1.pdf', 'page': 10}, page_content=\".1 Question 1\\nQuels sont les livres de la biblioth` eque intitul´ es “Le r´ eseau” ?\\nSELECT * FROM livre WHERE titre = 'Le r´ eseau';\\n3.2 Question 2\\nQuelles sont les cl´ es des exemplaires emprunt es par l’abonn´ e num´ ero 3 ?\\nSELECT id_exemplaire FROM emprunte WHERE id_abonne = 3;\\n10\"), Document(metadata={'source': 'Oulkadi-TP1.pdf', 'page': 11}, page_content='3.3 Question 3\\nQuelles sont les cl´ es des exemplaires acquis par la biblioth` eque en 2003 ?\\nSELECT id_exemplaire FROM exemplaire WHERE date_acquisition = 2003;\\n3.4 Question 4\\nQuels sont les noms des ´ editeurs ayant publi´ e les exemplaires que la biblioth` eque poss` ede ?\\nSELECT nom FROM exemplaire JOIN editeur ON exemplaire.id_editeur = editeur.id_editeur;\\n3.5 Question 5\\nTrouver les exemplaires du livre dont le titre est “Le grand tsar blanc”'), Document(metadata={'source': 'Oulkadi-TP1.pdf', 'page': 11}, page_content=\".id_editeur = editeur.id_editeur;\\n3.5 Question 5\\nTrouver les exemplaires du livre dont le titre est “Le grand tsar blanc”.\\nSELECT id_exemplaire FROM exemplaire WHERE id_livre IN\\n(SELECT livre.id_livre FROM livre WHERE titre = 'Le grand tsar blanc');\\n3.6 Question 6\\nQuelles bandes dessin´ ees trouve-t-on ` a la biblioth` eque ?\\nSELECT id_livre FROM correspond WHERE correspond.id_genre IN\\n(SELECT genre.id_genre FROM genre WHERE nom_genre = 'BD');\\n3\"), Document(metadata={'source': 'Oulkadi-TP1.pdf', 'page': 11}, page_content=\".id_genre IN\\n(SELECT genre.id_genre FROM genre WHERE nom_genre = 'BD');\\n3.7 Question 7\\nQuels sont les livres de la biblioth` eque dont l’auteur est “David Eddings” ?\\nSELECT id_livre FROM ecrit e JOIN\\n(SELECT * FROM auteur WHERE prenom = 'David' and nom = 'Eddings') a\\nON e.id_auteur = a.id_auteur;\\n3.8 Question 8\\nQuels sont les noms des auteurs ayant ecrit ` a la fois des romans et des bandes dessin´ ees ?\\n-- transcription direct de l'alg` ebre relationnel\\nSELECT DISTINCT a\"), Document(metadata={'source': 'Oulkadi-TP1.pdf', 'page': 11}, page_content=\".nom\\nFROM auteur a\\nJOIN ecrit e ON a.id_auteur = e.id_auteur\\nJOIN correspond c ON e.id_livre = c.id_livre\\nJOIN genre g ON c.id_genre = g.id_genre\\nWHERE g.nom_genre = 'BD'\\nAND a.nom IN (\\nSELECT a2.nom\\nFROM auteur a2\\nJOIN ecrit e2 ON a2.id_auteur = e2.id_auteur\\nJOIN correspond c2 ON e2.id_livre = c2.id_livre\\nJOIN genre g2 ON c2.id_genre = g2.id_genre\\n11\"), Document(metadata={'source': 'Oulkadi-TP1.pdf', 'page': 12}, page_content=\"WHERE g2.nom_genre = 'Roman'\\n);\\n-- reformulation\\nSELECT DISTINCT nom\\nFROM auteur\\nWHERE id_auteur IN\\n(SELECT id_auteur\\nFROM correspond\\nJOIN ecrit ON ecrit.id_livre = correspond.id_livre\\nWHERE correspond.id_genre IN\\n(SELECT genre.id_genre\\nFROM genre\\nWHERE nom_genre = 'BD'))\\nAND id_auteur IN\\n(SELECT id_auteur\\nFROM correspond\\nJOIN ecrit ON ecrit.id_livre = correspond.id_livre\\nWHERE correspond.id_genre IN\\n(SELECT genre.id_genre\\nFROM genre\\nWHERE nom_genre = 'Roman'));\\n3\"), Document(metadata={'source': 'Oulkadi-TP1.pdf', 'page': 12}, page_content=\".id_livre = correspond.id_livre\\nWHERE correspond.id_genre IN\\n(SELECT genre.id_genre\\nFROM genre\\nWHERE nom_genre = 'Roman'));\\n3.9 Question 9\\nQuels sont les noms des auteurs ayant ´ ecrit des romans ou des bandes dessin´ ees ?\\nSELECT nom\\nFROM auteur a\\nJOIN ecrit e on a.id_auteur = e.id_auteur\\nJOIN livre l on e.id_livre = l.id_livre\\nJOIN correspond c on l.id_livre = c.id_livre\\nJOIN genre g on c.id_genre = g.id_genre\\nWHERE g.nom_genre = 'BD' OR g.nom_genre = 'Roman';\\n3\"), Document(metadata={'source': 'Oulkadi-TP1.pdf', 'page': 12}, page_content=\".id_livre\\nJOIN correspond c on l.id_livre = c.id_livre\\nJOIN genre g on c.id_genre = g.id_genre\\nWHERE g.nom_genre = 'BD' OR g.nom_genre = 'Roman';\\n3.10 Question 10\\nQuels sont les noms des auteurs de romans n’ayant pas ecrit de bande dessin´ ee ?\\nSELECT DISTINCT nom\\nFROM auteur\\nWHERE id_auteur IN\\n(SELECT id_auteur\\nFROM correspond\\nJOIN ecrit ON ecrit.id_livre = correspond.id_livre\\nWHERE correspond.id_genre IN\\n(SELECT genre\"), Document(metadata={'source': 'Oulkadi-TP1.pdf', 'page': 12}, page_content=\".id_livre = correspond.id_livre\\nWHERE correspond.id_genre IN\\n(SELECT genre.id_genre\\nFROM genre\\nWHERE nom_genre = 'Roman'))\\nAND id_auteur NOT IN\\n(SELECT id_auteur\\n12\"), Document(metadata={'source': 'Oulkadi-TP1.pdf', 'page': 13}, page_content=\"FROM correspond\\nJOIN ecrit ON ecrit.id_livre = correspond.id_livre\\nWHERE correspond.id_genre IN\\n(SELECT genre.id_genre\\nFROM genre\\nWHERE nom_genre = 'BD'));\\n3.11 Question 11\\nQuels sont les titres des romans se d´ eroulant dans le monde du cin´ ema que la biblioth` eque poss` ede ?\\nSELECT DISTINCT l.titre\\nFROM LIVRE l\\nJOIN correspond c ON l.id_livre = c.id_livre\\nJOIN decrit d ON d.id_livre = l.id_livre\\nWHERE c.id_genre IN\\n(SELECT id_genre\\nFROM genre\\nWHERE nom_genre = 'Roman')\\nAND d\"), Document(metadata={'source': 'Oulkadi-TP1.pdf', 'page': 13}, page_content=\".id_livre = c.id_livre\\nJOIN decrit d ON d.id_livre = l.id_livre\\nWHERE c.id_genre IN\\n(SELECT id_genre\\nFROM genre\\nWHERE nom_genre = 'Roman')\\nAND d.id_motcle IN\\n(SELECT id_motcle\\nFROM mot_cle\\nWHERE motcle = 'cinema');\\n3.12 Question 12\\nQuels sont les abonn´ es ayant emprunt e un livre intitul´ e Le r´ eseau et dont l’auteur est “Annika Brumark” ?\\nSELECT a.nom_abonne\\nFROM livre l\\nJOIN exemplaire e on l.id_livre = e.id_livre\\nJOIN emprunte e2 on e.id_exemplaire = e2.id_exemplaire\\nJOIN ecrit ec on l\"), Document(metadata={'source': 'Oulkadi-TP1.pdf', 'page': 13}, page_content=\".nom_abonne\\nFROM livre l\\nJOIN exemplaire e on l.id_livre = e.id_livre\\nJOIN emprunte e2 on e.id_exemplaire = e2.id_exemplaire\\nJOIN ecrit ec on l.id_livre = ec.id_livre\\nJOIN abonne a on e2.id_abonne = a.id_abonne\\nWHERE l.titre = 'Le r´ eseau'\\nAND id_auteur IN\\n(SELECT id_auteur FROM auteur WHERE nom = 'Annika Brumark');\\n3.13 Question 13\\nQuels sont les titres des livres publi´ es par les editeurs ayant publi´ e Les travailleurs de la mer ?\\nSELECT l1.titre\\nFROM livre l1\\nJOIN exemplaire ex1 ON l1\"), Document(metadata={'source': 'Oulkadi-TP1.pdf', 'page': 13}, page_content=\".titre\\nFROM livre l1\\nJOIN exemplaire ex1 ON l1.id_livre = ex1.id_livre\\nJOIN editeur e on ex1.id_editeur = e.id_editeur,\\nlivre l2 JOIN exemplaire e2 ON l2.id_livre = e2.id_livre\\nWHERE l1.titre = 'Les travailleurs de la mer'\\nAND l1.id_livre <> l2.id_livre;\\n13\")]\n"
     ]
    }
   ],
   "source": [
    "chunks = text_splitter.split_documents(documents)\n",
    "print(chunks)"
   ]
  },
  {
   "cell_type": "code",
   "execution_count": 25,
   "metadata": {},
   "outputs": [],
   "source": [
    "from langchain.vectorstores import FAISS\n",
    "\n",
    "vectorstore = FAISS.from_documents(chunks, model)\n",
    "vectorstore.save_local(\"vectorstore.db\")\n"
   ]
  },
  {
   "cell_type": "code",
   "execution_count": 26,
   "metadata": {},
   "outputs": [],
   "source": [
    "question = \"quelle est la différence entre varchar et char ?\""
   ]
  },
  {
   "cell_type": "code",
   "execution_count": 27,
   "metadata": {},
   "outputs": [],
   "source": [
    "docs = vectorstore.similarity_search(question, k = 2)"
   ]
  },
  {
   "cell_type": "code",
   "execution_count": 28,
   "metadata": {},
   "outputs": [
    {
     "name": "stdout",
     "output_type": "stream",
     "text": [
      "1 Partie A - Introduction\n",
      "1.1 Notion de table\n",
      "Entre CHAR et VARCHAR La distinction majeure entre char et varchar r´ eside dans la mani` ere dont ils\n",
      "g` erent la longueur des donn´ ees. Le type de donn´ ees char est con¸ cu pour stocker des caract` eres de longueur fixe,\n",
      "tandis que le type varchar permet de stocker des caract` eres de longueur variable\n",
      ".\n",
      "Lorsque la chaˆ ıne de caract` eres enregistr´ ee est plus courte que la taille sp´ ecifi´ ee, le type char remplit les\n",
      "octets restants avec des espaces. En revanche, le type varchar ne consigne que la longueur effective de la chaˆ ıne,\n",
      "en ajoutant quelques octets suppl´ ementaires pour stocker les informations de longueur\n"
     ]
    }
   ],
   "source": [
    "for doc in docs:\n",
    "    print(doc.page_content)"
   ]
  }
 ],
 "metadata": {
  "kernelspec": {
   "display_name": ".venv",
   "language": "python",
   "name": "python3"
  },
  "language_info": {
   "codemirror_mode": {
    "name": "ipython",
    "version": 3
   },
   "file_extension": ".py",
   "mimetype": "text/x-python",
   "name": "python",
   "nbconvert_exporter": "python",
   "pygments_lexer": "ipython3",
   "version": "3.12.0"
  }
 },
 "nbformat": 4,
 "nbformat_minor": 2
}
